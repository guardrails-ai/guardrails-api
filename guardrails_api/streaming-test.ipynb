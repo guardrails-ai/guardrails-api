{
 "cells": [
  {
   "cell_type": "code",
   "execution_count": 9,
   "metadata": {},
   "outputs": [
    {
     "name": "stdout",
     "output_type": "stream",
     "text": [
      "Collecting git+https://github.com/guardrails-ai/guardrails.git@start-cmd\n",
      "  Cloning https://github.com/guardrails-ai/guardrails.git (to revision start-cmd) to /private/var/folders/r3/921_1z6s2bz25bcx9898xpz40000gn/T/pip-req-build-h26jc_tn\n",
      "  Running command git clone --filter=blob:none --quiet https://github.com/guardrails-ai/guardrails.git /private/var/folders/r3/921_1z6s2bz25bcx9898xpz40000gn/T/pip-req-build-h26jc_tn\n",
      "  Running command git checkout -b start-cmd --track origin/start-cmd\n",
      "  Switched to a new branch 'start-cmd'\n",
      "  branch 'start-cmd' set up to track 'origin/start-cmd'.\n",
      "  Resolved https://github.com/guardrails-ai/guardrails.git to commit baa093f2b85aff1dd67082e09548d346e517cc46\n",
      "  Installing build dependencies ... \u001b[?25ldone\n",
      "\u001b[?25h  Getting requirements to build wheel ... \u001b[?25ldone\n",
      "\u001b[?25h  Preparing metadata (pyproject.toml) ... \u001b[?25ldone\n",
      "\u001b[?25hRequirement already satisfied: coloredlogs<16.0.0,>=15.0.1 in /Users/nicholaschen/guardrails-api/.venv/lib/python3.11/site-packages (from guardrails-ai==0.5.0a0) (15.0.1)\n",
      "Requirement already satisfied: faker<26.0.0,>=25.2.0 in /Users/nicholaschen/guardrails-api/.venv/lib/python3.11/site-packages (from guardrails-ai==0.5.0a0) (25.6.0)\n",
      "Requirement already satisfied: griffe<0.37.0,>=0.36.9 in /Users/nicholaschen/guardrails-api/.venv/lib/python3.11/site-packages (from guardrails-ai==0.5.0a0) (0.36.9)\n",
      "Requirement already satisfied: guardrails-api-client==0.3.4 in /Users/nicholaschen/guardrails-api/.venv/lib/python3.11/site-packages (from guardrails-ai==0.5.0a0) (0.3.4)\n",
      "Requirement already satisfied: jsonref<2.0.0,>=1.1.0 in /Users/nicholaschen/guardrails-api/.venv/lib/python3.11/site-packages (from guardrails-ai==0.5.0a0) (1.1.0)\n",
      "Requirement already satisfied: jsonschema<5.0.0,>=4.22.0 in /Users/nicholaschen/guardrails-api/.venv/lib/python3.11/site-packages (from jsonschema[format]<5.0.0,>=4.22.0->guardrails-ai==0.5.0a0) (4.22.0)\n",
      "Requirement already satisfied: jwt<2.0.0,>=1.3.1 in /Users/nicholaschen/guardrails-api/.venv/lib/python3.11/site-packages (from guardrails-ai==0.5.0a0) (1.3.1)\n",
      "Requirement already satisfied: langchain-core<0.3,>=0.1 in /Users/nicholaschen/guardrails-api/.venv/lib/python3.11/site-packages (from guardrails-ai==0.5.0a0) (0.1.52)\n",
      "Requirement already satisfied: lxml<5.0.0,>=4.9.3 in /Users/nicholaschen/guardrails-api/.venv/lib/python3.11/site-packages (from guardrails-ai==0.5.0a0) (4.9.4)\n",
      "Requirement already satisfied: nltk<4.0.0,>=3.8.1 in /Users/nicholaschen/guardrails-api/.venv/lib/python3.11/site-packages (from guardrails-ai==0.5.0a0) (3.8.1)\n",
      "Requirement already satisfied: openai<2.0.0,>=1.30.1 in /Users/nicholaschen/guardrails-api/.venv/lib/python3.11/site-packages (from guardrails-ai==0.5.0a0) (1.31.2)\n",
      "Requirement already satisfied: opentelemetry-exporter-otlp-proto-grpc<2.0.0,>=1.24.0 in /Users/nicholaschen/guardrails-api/.venv/lib/python3.11/site-packages (from guardrails-ai==0.5.0a0) (1.25.0)\n",
      "Requirement already satisfied: opentelemetry-exporter-otlp-proto-http<2.0.0,>=1.24.0 in /Users/nicholaschen/guardrails-api/.venv/lib/python3.11/site-packages (from guardrails-ai==0.5.0a0) (1.25.0)\n",
      "Requirement already satisfied: opentelemetry-sdk<2.0.0,>=1.24.0 in /Users/nicholaschen/guardrails-api/.venv/lib/python3.11/site-packages (from guardrails-ai==0.5.0a0) (1.25.0)\n",
      "Requirement already satisfied: pip>=22 in /Users/nicholaschen/guardrails-api/.venv/lib/python3.11/site-packages (from guardrails-ai==0.5.0a0) (24.0)\n",
      "Requirement already satisfied: pydantic<3.0,>=2.0.0 in /Users/nicholaschen/guardrails-api/.venv/lib/python3.11/site-packages (from guardrails-ai==0.5.0a0) (2.7.3)\n",
      "Requirement already satisfied: pydash<8.0.0,>=7.0.6 in /Users/nicholaschen/guardrails-api/.venv/lib/python3.11/site-packages (from guardrails-ai==0.5.0a0) (7.0.7)\n",
      "Requirement already satisfied: python-dateutil<3.0.0,>=2.8.2 in /Users/nicholaschen/guardrails-api/.venv/lib/python3.11/site-packages (from guardrails-ai==0.5.0a0) (2.9.0.post0)\n",
      "Requirement already satisfied: regex<2024.0.0,>=2023.10.3 in /Users/nicholaschen/guardrails-api/.venv/lib/python3.11/site-packages (from guardrails-ai==0.5.0a0) (2023.12.25)\n",
      "Requirement already satisfied: requests<3.0.0,>=2.31.0 in /Users/nicholaschen/guardrails-api/.venv/lib/python3.11/site-packages (from guardrails-ai==0.5.0a0) (2.32.3)\n",
      "Requirement already satisfied: rich<14.0.0,>=13.6.0 in /Users/nicholaschen/guardrails-api/.venv/lib/python3.11/site-packages (from guardrails-ai==0.5.0a0) (13.7.1)\n",
      "Requirement already satisfied: rstr<4.0.0,>=3.2.2 in /Users/nicholaschen/guardrails-api/.venv/lib/python3.11/site-packages (from guardrails-ai==0.5.0a0) (3.2.2)\n",
      "Requirement already satisfied: tenacity>=8.1.0 in /Users/nicholaschen/guardrails-api/.venv/lib/python3.11/site-packages (from guardrails-ai==0.5.0a0) (8.3.0)\n",
      "Requirement already satisfied: tiktoken>=0.5.1 in /Users/nicholaschen/guardrails-api/.venv/lib/python3.11/site-packages (from guardrails-ai==0.5.0a0) (0.5.2)\n",
      "Requirement already satisfied: typer<0.10.0,>=0.9.0 in /Users/nicholaschen/guardrails-api/.venv/lib/python3.11/site-packages (from typer[all]<0.10.0,>=0.9.0->guardrails-ai==0.5.0a0) (0.9.4)\n",
      "Requirement already satisfied: typing-extensions<5.0.0,>=4.8.0 in /Users/nicholaschen/guardrails-api/.venv/lib/python3.11/site-packages (from guardrails-ai==0.5.0a0) (4.12.1)\n",
      "Requirement already satisfied: humanfriendly>=9.1 in /Users/nicholaschen/guardrails-api/.venv/lib/python3.11/site-packages (from coloredlogs<16.0.0,>=15.0.1->guardrails-ai==0.5.0a0) (10.0)\n",
      "Requirement already satisfied: colorama>=0.4 in /Users/nicholaschen/guardrails-api/.venv/lib/python3.11/site-packages (from griffe<0.37.0,>=0.36.9->guardrails-ai==0.5.0a0) (0.4.6)\n",
      "Requirement already satisfied: attrs>=22.2.0 in /Users/nicholaschen/guardrails-api/.venv/lib/python3.11/site-packages (from jsonschema<5.0.0,>=4.22.0->jsonschema[format]<5.0.0,>=4.22.0->guardrails-ai==0.5.0a0) (23.2.0)\n",
      "Requirement already satisfied: jsonschema-specifications>=2023.03.6 in /Users/nicholaschen/guardrails-api/.venv/lib/python3.11/site-packages (from jsonschema<5.0.0,>=4.22.0->jsonschema[format]<5.0.0,>=4.22.0->guardrails-ai==0.5.0a0) (2023.12.1)\n",
      "Requirement already satisfied: referencing>=0.28.4 in /Users/nicholaschen/guardrails-api/.venv/lib/python3.11/site-packages (from jsonschema<5.0.0,>=4.22.0->jsonschema[format]<5.0.0,>=4.22.0->guardrails-ai==0.5.0a0) (0.35.1)\n",
      "Requirement already satisfied: rpds-py>=0.7.1 in /Users/nicholaschen/guardrails-api/.venv/lib/python3.11/site-packages (from jsonschema<5.0.0,>=4.22.0->jsonschema[format]<5.0.0,>=4.22.0->guardrails-ai==0.5.0a0) (0.18.1)\n",
      "Requirement already satisfied: fqdn in /Users/nicholaschen/guardrails-api/.venv/lib/python3.11/site-packages (from jsonschema[format]<5.0.0,>=4.22.0->guardrails-ai==0.5.0a0) (1.5.1)\n",
      "Requirement already satisfied: idna in /Users/nicholaschen/guardrails-api/.venv/lib/python3.11/site-packages (from jsonschema[format]<5.0.0,>=4.22.0->guardrails-ai==0.5.0a0) (3.7)\n",
      "Requirement already satisfied: isoduration in /Users/nicholaschen/guardrails-api/.venv/lib/python3.11/site-packages (from jsonschema[format]<5.0.0,>=4.22.0->guardrails-ai==0.5.0a0) (20.11.0)\n",
      "Requirement already satisfied: jsonpointer>1.13 in /Users/nicholaschen/guardrails-api/.venv/lib/python3.11/site-packages (from jsonschema[format]<5.0.0,>=4.22.0->guardrails-ai==0.5.0a0) (2.4)\n",
      "Requirement already satisfied: rfc3339-validator in /Users/nicholaschen/guardrails-api/.venv/lib/python3.11/site-packages (from jsonschema[format]<5.0.0,>=4.22.0->guardrails-ai==0.5.0a0) (0.1.4)\n",
      "Requirement already satisfied: rfc3987 in /Users/nicholaschen/guardrails-api/.venv/lib/python3.11/site-packages (from jsonschema[format]<5.0.0,>=4.22.0->guardrails-ai==0.5.0a0) (1.3.8)\n",
      "Requirement already satisfied: uri-template in /Users/nicholaschen/guardrails-api/.venv/lib/python3.11/site-packages (from jsonschema[format]<5.0.0,>=4.22.0->guardrails-ai==0.5.0a0) (1.3.0)\n",
      "Requirement already satisfied: webcolors>=1.11 in /Users/nicholaschen/guardrails-api/.venv/lib/python3.11/site-packages (from jsonschema[format]<5.0.0,>=4.22.0->guardrails-ai==0.5.0a0) (24.6.0)\n",
      "Requirement already satisfied: cryptography!=3.4.0,>=3.1 in /Users/nicholaschen/guardrails-api/.venv/lib/python3.11/site-packages (from jwt<2.0.0,>=1.3.1->guardrails-ai==0.5.0a0) (42.0.8)\n",
      "Requirement already satisfied: PyYAML>=5.3 in /Users/nicholaschen/guardrails-api/.venv/lib/python3.11/site-packages (from langchain-core<0.3,>=0.1->guardrails-ai==0.5.0a0) (6.0.1)\n",
      "Requirement already satisfied: jsonpatch<2.0,>=1.33 in /Users/nicholaschen/guardrails-api/.venv/lib/python3.11/site-packages (from langchain-core<0.3,>=0.1->guardrails-ai==0.5.0a0) (1.33)\n",
      "Requirement already satisfied: langsmith<0.2.0,>=0.1.0 in /Users/nicholaschen/guardrails-api/.venv/lib/python3.11/site-packages (from langchain-core<0.3,>=0.1->guardrails-ai==0.5.0a0) (0.1.75)\n",
      "Requirement already satisfied: packaging<24.0,>=23.2 in /Users/nicholaschen/guardrails-api/.venv/lib/python3.11/site-packages (from langchain-core<0.3,>=0.1->guardrails-ai==0.5.0a0) (23.2)\n",
      "Requirement already satisfied: click in /Users/nicholaschen/guardrails-api/.venv/lib/python3.11/site-packages (from nltk<4.0.0,>=3.8.1->guardrails-ai==0.5.0a0) (8.1.7)\n",
      "Requirement already satisfied: joblib in /Users/nicholaschen/guardrails-api/.venv/lib/python3.11/site-packages (from nltk<4.0.0,>=3.8.1->guardrails-ai==0.5.0a0) (1.4.2)\n",
      "Requirement already satisfied: tqdm in /Users/nicholaschen/guardrails-api/.venv/lib/python3.11/site-packages (from nltk<4.0.0,>=3.8.1->guardrails-ai==0.5.0a0) (4.66.4)\n",
      "Requirement already satisfied: anyio<5,>=3.5.0 in /Users/nicholaschen/guardrails-api/.venv/lib/python3.11/site-packages (from openai<2.0.0,>=1.30.1->guardrails-ai==0.5.0a0) (4.4.0)\n",
      "Requirement already satisfied: distro<2,>=1.7.0 in /Users/nicholaschen/guardrails-api/.venv/lib/python3.11/site-packages (from openai<2.0.0,>=1.30.1->guardrails-ai==0.5.0a0) (1.9.0)\n",
      "Requirement already satisfied: httpx<1,>=0.23.0 in /Users/nicholaschen/guardrails-api/.venv/lib/python3.11/site-packages (from openai<2.0.0,>=1.30.1->guardrails-ai==0.5.0a0) (0.27.0)\n",
      "Requirement already satisfied: sniffio in /Users/nicholaschen/guardrails-api/.venv/lib/python3.11/site-packages (from openai<2.0.0,>=1.30.1->guardrails-ai==0.5.0a0) (1.3.1)\n",
      "Requirement already satisfied: deprecated>=1.2.6 in /Users/nicholaschen/guardrails-api/.venv/lib/python3.11/site-packages (from opentelemetry-exporter-otlp-proto-grpc<2.0.0,>=1.24.0->guardrails-ai==0.5.0a0) (1.2.14)\n",
      "Requirement already satisfied: googleapis-common-protos~=1.52 in /Users/nicholaschen/guardrails-api/.venv/lib/python3.11/site-packages (from opentelemetry-exporter-otlp-proto-grpc<2.0.0,>=1.24.0->guardrails-ai==0.5.0a0) (1.63.1)\n",
      "Requirement already satisfied: grpcio<2.0.0,>=1.0.0 in /Users/nicholaschen/guardrails-api/.venv/lib/python3.11/site-packages (from opentelemetry-exporter-otlp-proto-grpc<2.0.0,>=1.24.0->guardrails-ai==0.5.0a0) (1.64.1)\n",
      "Requirement already satisfied: opentelemetry-api~=1.15 in /Users/nicholaschen/guardrails-api/.venv/lib/python3.11/site-packages (from opentelemetry-exporter-otlp-proto-grpc<2.0.0,>=1.24.0->guardrails-ai==0.5.0a0) (1.25.0)\n",
      "Requirement already satisfied: opentelemetry-exporter-otlp-proto-common==1.25.0 in /Users/nicholaschen/guardrails-api/.venv/lib/python3.11/site-packages (from opentelemetry-exporter-otlp-proto-grpc<2.0.0,>=1.24.0->guardrails-ai==0.5.0a0) (1.25.0)\n",
      "Requirement already satisfied: opentelemetry-proto==1.25.0 in /Users/nicholaschen/guardrails-api/.venv/lib/python3.11/site-packages (from opentelemetry-exporter-otlp-proto-grpc<2.0.0,>=1.24.0->guardrails-ai==0.5.0a0) (1.25.0)\n",
      "Requirement already satisfied: protobuf<5.0,>=3.19 in /Users/nicholaschen/guardrails-api/.venv/lib/python3.11/site-packages (from opentelemetry-proto==1.25.0->opentelemetry-exporter-otlp-proto-grpc<2.0.0,>=1.24.0->guardrails-ai==0.5.0a0) (4.25.3)\n",
      "Requirement already satisfied: opentelemetry-semantic-conventions==0.46b0 in /Users/nicholaschen/guardrails-api/.venv/lib/python3.11/site-packages (from opentelemetry-sdk<2.0.0,>=1.24.0->guardrails-ai==0.5.0a0) (0.46b0)\n",
      "Requirement already satisfied: importlib-metadata<=7.1,>=6.0 in /Users/nicholaschen/guardrails-api/.venv/lib/python3.11/site-packages (from opentelemetry-api~=1.15->opentelemetry-exporter-otlp-proto-grpc<2.0.0,>=1.24.0->guardrails-ai==0.5.0a0) (6.11.0)\n",
      "Requirement already satisfied: annotated-types>=0.4.0 in /Users/nicholaschen/guardrails-api/.venv/lib/python3.11/site-packages (from pydantic<3.0,>=2.0.0->guardrails-ai==0.5.0a0) (0.7.0)\n",
      "Requirement already satisfied: pydantic-core==2.18.4 in /Users/nicholaschen/guardrails-api/.venv/lib/python3.11/site-packages (from pydantic<3.0,>=2.0.0->guardrails-ai==0.5.0a0) (2.18.4)\n",
      "Requirement already satisfied: six>=1.5 in /Users/nicholaschen/guardrails-api/.venv/lib/python3.11/site-packages (from python-dateutil<3.0.0,>=2.8.2->guardrails-ai==0.5.0a0) (1.16.0)\n",
      "Requirement already satisfied: charset-normalizer<4,>=2 in /Users/nicholaschen/guardrails-api/.venv/lib/python3.11/site-packages (from requests<3.0.0,>=2.31.0->guardrails-ai==0.5.0a0) (3.3.2)\n",
      "Requirement already satisfied: urllib3<3,>=1.21.1 in /Users/nicholaschen/guardrails-api/.venv/lib/python3.11/site-packages (from requests<3.0.0,>=2.31.0->guardrails-ai==0.5.0a0) (2.2.1)\n",
      "Requirement already satisfied: certifi>=2017.4.17 in /Users/nicholaschen/guardrails-api/.venv/lib/python3.11/site-packages (from requests<3.0.0,>=2.31.0->guardrails-ai==0.5.0a0) (2024.6.2)\n",
      "Requirement already satisfied: markdown-it-py>=2.2.0 in /Users/nicholaschen/guardrails-api/.venv/lib/python3.11/site-packages (from rich<14.0.0,>=13.6.0->guardrails-ai==0.5.0a0) (3.0.0)\n",
      "Requirement already satisfied: pygments<3.0.0,>=2.13.0 in /Users/nicholaschen/guardrails-api/.venv/lib/python3.11/site-packages (from rich<14.0.0,>=13.6.0->guardrails-ai==0.5.0a0) (2.18.0)\n",
      "Requirement already satisfied: shellingham<2.0.0,>=1.3.0 in /Users/nicholaschen/guardrails-api/.venv/lib/python3.11/site-packages (from typer[all]<0.10.0,>=0.9.0->guardrails-ai==0.5.0a0) (1.5.4)\n",
      "Requirement already satisfied: cffi>=1.12 in /Users/nicholaschen/guardrails-api/.venv/lib/python3.11/site-packages (from cryptography!=3.4.0,>=3.1->jwt<2.0.0,>=1.3.1->guardrails-ai==0.5.0a0) (1.16.0)\n",
      "Requirement already satisfied: wrapt<2,>=1.10 in /Users/nicholaschen/guardrails-api/.venv/lib/python3.11/site-packages (from deprecated>=1.2.6->opentelemetry-exporter-otlp-proto-grpc<2.0.0,>=1.24.0->guardrails-ai==0.5.0a0) (1.16.0)\n",
      "Requirement already satisfied: httpcore==1.* in /Users/nicholaschen/guardrails-api/.venv/lib/python3.11/site-packages (from httpx<1,>=0.23.0->openai<2.0.0,>=1.30.1->guardrails-ai==0.5.0a0) (1.0.5)\n",
      "Requirement already satisfied: h11<0.15,>=0.13 in /Users/nicholaschen/guardrails-api/.venv/lib/python3.11/site-packages (from httpcore==1.*->httpx<1,>=0.23.0->openai<2.0.0,>=1.30.1->guardrails-ai==0.5.0a0) (0.14.0)\n",
      "Requirement already satisfied: orjson<4.0.0,>=3.9.14 in /Users/nicholaschen/guardrails-api/.venv/lib/python3.11/site-packages (from langsmith<0.2.0,>=0.1.0->langchain-core<0.3,>=0.1->guardrails-ai==0.5.0a0) (3.10.3)\n",
      "Requirement already satisfied: mdurl~=0.1 in /Users/nicholaschen/guardrails-api/.venv/lib/python3.11/site-packages (from markdown-it-py>=2.2.0->rich<14.0.0,>=13.6.0->guardrails-ai==0.5.0a0) (0.1.2)\n",
      "Requirement already satisfied: arrow>=0.15.0 in /Users/nicholaschen/guardrails-api/.venv/lib/python3.11/site-packages (from isoduration->jsonschema[format]<5.0.0,>=4.22.0->guardrails-ai==0.5.0a0) (1.3.0)\n",
      "Requirement already satisfied: types-python-dateutil>=2.8.10 in /Users/nicholaschen/guardrails-api/.venv/lib/python3.11/site-packages (from arrow>=0.15.0->isoduration->jsonschema[format]<5.0.0,>=4.22.0->guardrails-ai==0.5.0a0) (2.9.0.20240316)\n",
      "Requirement already satisfied: pycparser in /Users/nicholaschen/guardrails-api/.venv/lib/python3.11/site-packages (from cffi>=1.12->cryptography!=3.4.0,>=3.1->jwt<2.0.0,>=1.3.1->guardrails-ai==0.5.0a0) (2.22)\n",
      "Requirement already satisfied: zipp>=0.5 in /Users/nicholaschen/guardrails-api/.venv/lib/python3.11/site-packages (from importlib-metadata<=7.1,>=6.0->opentelemetry-api~=1.15->opentelemetry-exporter-otlp-proto-grpc<2.0.0,>=1.24.0->guardrails-ai==0.5.0a0) (3.19.2)\n",
      "Building wheels for collected packages: guardrails-ai\n",
      "  Building wheel for guardrails-ai (pyproject.toml) ... \u001b[?25ldone\n",
      "\u001b[?25h  Created wheel for guardrails-ai: filename=guardrails_ai-0.5.0a0-py3-none-any.whl size=163530 sha256=e3354c1d4c2f745a223dc94bc97a709a16c604de0fdea50a0ee6197d21684e94\n",
      "  Stored in directory: /private/var/folders/r3/921_1z6s2bz25bcx9898xpz40000gn/T/pip-ephem-wheel-cache-foj8x5cg/wheels/0f/8f/ce/e2e709435a6a68a64a5881ac3a372e244e6be200fe15abe181\n",
      "Successfully built guardrails-ai\n",
      "Installing collected packages: guardrails-ai\n",
      "  Attempting uninstall: guardrails-ai\n",
      "    Found existing installation: guardrails-ai 0.5.0a1\n",
      "    Uninstalling guardrails-ai-0.5.0a1:\n",
      "      Successfully uninstalled guardrails-ai-0.5.0a1\n",
      "Successfully installed guardrails-ai-0.5.0a0\n",
      "Note: you may need to restart the kernel to use updated packages.\n"
     ]
    }
   ],
   "source": [
    "%pip install git+https://github.com/guardrails-ai/guardrails.git@start-cmd\n"
   ]
  },
  {
   "cell_type": "code",
   "execution_count": 17,
   "metadata": {},
   "outputs": [
    {
     "name": "stdout",
     "output_type": "stream",
     "text": [
      "Installing hub:\u001b[35m/\u001b[0m\u001b[35m/guardrails/\u001b[0m\u001b[95mcompetitor_check...\u001b[0m\n",
      "\u001b[2K\u001b[32m[    ]\u001b[0m Fetching manifestst\n",
      "\u001b[2K\u001b[32m[=   ]\u001b[0m Downloading dependenciespendencies  Running command git clone --filter=blob:none --quiet https://github.com/guardrails-ai/competitor_check.git /private/var/folders/r3/921_1z6s2bz25bcx9898xpz40000gn/T/pip-req-build-ahvuhd83\n",
      "\u001b[2K\u001b[32m[  ==]\u001b[0m Downloading dependencies\u001b[33mWARNING: Target directory /Users/nicholaschen/guardrails-api/.venv/lib/python3.11/site-packages/guardrails/hub/guardrails/competitor_check/competitor_check-0.0.0.dist-info already exists. Specify --upgrade to force replacement.\u001b[0m\u001b[33m\n",
      "\u001b[0m\u001b[33mWARNING: Target directory /Users/nicholaschen/guardrails-api/.venv/lib/python3.11/site-packages/guardrails/hub/guardrails/competitor_check/validator already exists. Specify --upgrade to force replacement.\u001b[0m\u001b[33m\n",
      "\u001b[2K\u001b[32m[=== ]\u001b[0m Downloading dependencies\n",
      "\u001b[2K\u001b[32m[=   ]\u001b[0m Running post-install setuptall setup\n",
      "\u001b[1A\u001b[2K✅Successfully installed guardrails/competitor_check!\n",
      "\n",
      "\n",
      "\u001b[1mImport validator:\u001b[0m\n",
      "from guardrails.hub import CompetitorCheck\n",
      "\n",
      "\u001b[1mGet more info:\u001b[0m\n",
      "\u001b[4;94mhttps://hub.guardrailsai.com/validator/guardrails/competitor_check\u001b[0m\n",
      "\n"
     ]
    }
   ],
   "source": [
    "!guardrails hub install hub://guardrails/competitor_check"
   ]
  },
  {
   "cell_type": "code",
   "execution_count": 15,
   "metadata": {},
   "outputs": [
    {
     "name": "stdout",
     "output_type": "stream",
     "text": [
      "Installing hub:\u001b[35m/\u001b[0m\u001b[35m/guardrails/\u001b[0m\u001b[95mdetect_pii...\u001b[0m\n",
      "\u001b[2K\u001b[32m[ ===]\u001b[0m Fetching manifestst\n",
      "\u001b[2K\u001b[32m[=   ]\u001b[0m Downloading dependenciespendencies  Running command git clone --filter=blob:none --quiet https://github.com/guardrails-ai/detect_pii.git /private/var/folders/r3/921_1z6s2bz25bcx9898xpz40000gn/T/pip-req-build-k7hpb_4n\n",
      "\u001b[2K\u001b[32m[=   ]\u001b[0m Downloading dependencies\u001b[33mWARNING: Target directory /Users/nicholaschen/guardrails-api/.venv/lib/python3.11/site-packages/guardrails/hub/guardrails/detect_pii/validator already exists. Specify --upgrade to force replacement.\u001b[0m\u001b[33m\n",
      "\u001b[0m\u001b[33mWARNING: Target directory /Users/nicholaschen/guardrails-api/.venv/lib/python3.11/site-packages/guardrails/hub/guardrails/detect_pii/detect_pii-0.0.0.dist-info already exists. Specify --upgrade to force replacement.\u001b[0m\u001b[33m\n",
      "\u001b[2K\u001b[32m[=   ]\u001b[0m Downloading dependencies\n",
      "\u001b[2K\u001b[32m[  ==]\u001b[0m Running post-install setuptall setup\n",
      "\u001b[1A\u001b[2K✅Successfully installed guardrails/detect_pii!\n",
      "\n",
      "\n",
      "\u001b[1mImport validator:\u001b[0m\n",
      "from guardrails.hub import DetectPII\n",
      "\n",
      "\u001b[1mGet more info:\u001b[0m\n",
      "\u001b[4;94mhttps://hub.guardrailsai.com/validator/guardrails/detect_pii\u001b[0m\n",
      "\n"
     ]
    }
   ],
   "source": [
    "!guardrails hub install hub://guardrails/detect_pii"
   ]
  },
  {
   "cell_type": "code",
   "execution_count": 19,
   "metadata": {},
   "outputs": [
    {
     "name": "stdout",
     "output_type": "stream",
     "text": [
      "\u001b[33mUsage: \u001b[0mguardrails start [OPTIONS]\n",
      "\u001b[2mTry \u001b[0m\u001b[2;34m'guardrails start \u001b[0m\u001b[1;2;34m-\u001b[0m\u001b[1;2;34m-help\u001b[0m\u001b[2;34m'\u001b[0m\u001b[2m for help.\u001b[0m\n",
      "\u001b[31m╭─\u001b[0m\u001b[31m Error \u001b[0m\u001b[31m─────────────────────────────────────────────────────────────────────\u001b[0m\u001b[31m─╮\u001b[0m\n",
      "\u001b[31m│\u001b[0m No such option: \u001b[1;36m-\u001b[0m\u001b[1;36m-port\u001b[0m                                                       \u001b[31m│\u001b[0m\n",
      "\u001b[31m╰──────────────────────────────────────────────────────────────────────────────╯\u001b[0m\n"
     ]
    }
   ],
   "source": [
    "!echo \"\" | guardrails start --env .env --config ./config.py"
   ]
  },
  {
   "cell_type": "markdown",
   "metadata": {},
   "source": []
  }
 ],
 "metadata": {
  "kernelspec": {
   "display_name": ".venv",
   "language": "python",
   "name": "python3"
  },
  "language_info": {
   "codemirror_mode": {
    "name": "ipython",
    "version": 3
   },
   "file_extension": ".py",
   "mimetype": "text/x-python",
   "name": "python",
   "nbconvert_exporter": "python",
   "pygments_lexer": "ipython3",
   "version": "3.11.9"
  }
 },
 "nbformat": 4,
 "nbformat_minor": 2
}
